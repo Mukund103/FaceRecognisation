{
  "nbformat": 4,
  "nbformat_minor": 0,
  "metadata": {
    "colab": {
      "name": "transferLearning.ipynb",
      "provenance": [],
      "mount_file_id": "1Q5aD95FrgmsP1wnNYJ5Ype7tLjVzagvZ",
      "authorship_tag": "ABX9TyPG66ree90vthdxLEcuoaRQ",
      "include_colab_link": true
    },
    "kernelspec": {
      "name": "python3",
      "display_name": "Python 3"
    },
    "accelerator": "GPU"
  },
  "cells": [
    {
      "cell_type": "markdown",
      "metadata": {
        "id": "view-in-github",
        "colab_type": "text"
      },
      "source": [
        "<a href=\"https://colab.research.google.com/github/Mukund103/FaceRecognisation/blob/master/transferLearning.ipynb\" target=\"_parent\"><img src=\"https://colab.research.google.com/assets/colab-badge.svg\" alt=\"Open In Colab\"/></a>"
      ]
    },
    {
      "cell_type": "code",
      "metadata": {
        "id": "nimNgmWuIVdz",
        "colab_type": "code",
        "colab": {}
      },
      "source": [
        ""
      ],
      "execution_count": 0,
      "outputs": []
    },
    {
      "cell_type": "code",
      "metadata": {
        "id": "SZ_pjRJ0TuUL",
        "colab_type": "code",
        "colab": {}
      },
      "source": [
        "import keras"
      ],
      "execution_count": 0,
      "outputs": []
    },
    {
      "cell_type": "code",
      "metadata": {
        "id": "N5GcFNt4MmdK",
        "colab_type": "code",
        "colab": {}
      },
      "source": [
        "from keras.applications import MobileNet"
      ],
      "execution_count": 0,
      "outputs": []
    },
    {
      "cell_type": "code",
      "metadata": {
        "id": "xwrZdGSGMyM1",
        "colab_type": "code",
        "colab": {}
      },
      "source": [
        "# MobileNet was designed to work on 224 x 224 pixel input images sizes\n",
        "# Re-loads the MobileNet model without the top or FC layers\n",
        "MobileNet=MobileNet(weights=\"imagenet\",include_top=False,input_shape = (224, 224, 3))"
      ],
      "execution_count": 0,
      "outputs": []
    },
    {
      "cell_type": "code",
      "metadata": {
        "id": "iHMZJTDtM7GN",
        "colab_type": "code",
        "colab": {}
      },
      "source": [
        ""
      ],
      "execution_count": 0,
      "outputs": []
    },
    {
      "cell_type": "code",
      "metadata": {
        "id": "dAf9dFHyOhYb",
        "colab_type": "code",
        "colab": {}
      },
      "source": [
        "# Here we freeze the last 4 layers \n",
        "# Layers are set to trainable as True by default\n",
        "for layer in  MobileNet.layers:\n",
        "  layer.trainable=False"
      ],
      "execution_count": 0,
      "outputs": []
    },
    {
      "cell_type": "code",
      "metadata": {
        "id": "iuLSbmKkGKRm",
        "colab_type": "code",
        "outputId": "9e00311b-343b-4a2a-e35c-0dc0c57e229f",
        "colab": {
          "base_uri": "https://localhost:8080/",
          "height": 1000
        }
      },
      "source": [
        "# Let's print our layers \n",
        "for (i,layer) in enumerate(MobileNet.layers):\n",
        "    print(str(i) + \" \"+ layer.__class__.__name__, layer.trainable)"
      ],
      "execution_count": 169,
      "outputs": [
        {
          "output_type": "stream",
          "text": [
            "0 InputLayer False\n",
            "1 ZeroPadding2D False\n",
            "2 Conv2D False\n",
            "3 BatchNormalization False\n",
            "4 ReLU False\n",
            "5 DepthwiseConv2D False\n",
            "6 BatchNormalization False\n",
            "7 ReLU False\n",
            "8 Conv2D False\n",
            "9 BatchNormalization False\n",
            "10 ReLU False\n",
            "11 ZeroPadding2D False\n",
            "12 DepthwiseConv2D False\n",
            "13 BatchNormalization False\n",
            "14 ReLU False\n",
            "15 Conv2D False\n",
            "16 BatchNormalization False\n",
            "17 ReLU False\n",
            "18 DepthwiseConv2D False\n",
            "19 BatchNormalization False\n",
            "20 ReLU False\n",
            "21 Conv2D False\n",
            "22 BatchNormalization False\n",
            "23 ReLU False\n",
            "24 ZeroPadding2D False\n",
            "25 DepthwiseConv2D False\n",
            "26 BatchNormalization False\n",
            "27 ReLU False\n",
            "28 Conv2D False\n",
            "29 BatchNormalization False\n",
            "30 ReLU False\n",
            "31 DepthwiseConv2D False\n",
            "32 BatchNormalization False\n",
            "33 ReLU False\n",
            "34 Conv2D False\n",
            "35 BatchNormalization False\n",
            "36 ReLU False\n",
            "37 ZeroPadding2D False\n",
            "38 DepthwiseConv2D False\n",
            "39 BatchNormalization False\n",
            "40 ReLU False\n",
            "41 Conv2D False\n",
            "42 BatchNormalization False\n",
            "43 ReLU False\n",
            "44 DepthwiseConv2D False\n",
            "45 BatchNormalization False\n",
            "46 ReLU False\n",
            "47 Conv2D False\n",
            "48 BatchNormalization False\n",
            "49 ReLU False\n",
            "50 DepthwiseConv2D False\n",
            "51 BatchNormalization False\n",
            "52 ReLU False\n",
            "53 Conv2D False\n",
            "54 BatchNormalization False\n",
            "55 ReLU False\n",
            "56 DepthwiseConv2D False\n",
            "57 BatchNormalization False\n",
            "58 ReLU False\n",
            "59 Conv2D False\n",
            "60 BatchNormalization False\n",
            "61 ReLU False\n",
            "62 DepthwiseConv2D False\n",
            "63 BatchNormalization False\n",
            "64 ReLU False\n",
            "65 Conv2D False\n",
            "66 BatchNormalization False\n",
            "67 ReLU False\n",
            "68 DepthwiseConv2D False\n",
            "69 BatchNormalization False\n",
            "70 ReLU False\n",
            "71 Conv2D False\n",
            "72 BatchNormalization False\n",
            "73 ReLU False\n",
            "74 ZeroPadding2D False\n",
            "75 DepthwiseConv2D False\n",
            "76 BatchNormalization False\n",
            "77 ReLU False\n",
            "78 Conv2D False\n",
            "79 BatchNormalization False\n",
            "80 ReLU False\n",
            "81 DepthwiseConv2D False\n",
            "82 BatchNormalization False\n",
            "83 ReLU False\n",
            "84 Conv2D False\n",
            "85 BatchNormalization False\n",
            "86 ReLU False\n"
          ],
          "name": "stdout"
        }
      ]
    },
    {
      "cell_type": "code",
      "metadata": {
        "id": "aaufuqtQO2Rs",
        "colab_type": "code",
        "colab": {}
      },
      "source": [
        "x=MobileNet.output"
      ],
      "execution_count": 0,
      "outputs": []
    },
    {
      "cell_type": "code",
      "metadata": {
        "id": "mDo3LYweQXW-",
        "colab_type": "code",
        "outputId": "3e036837-055c-42eb-d16e-7d3cc0b36f98",
        "colab": {
          "base_uri": "https://localhost:8080/",
          "height": 34
        }
      },
      "source": [
        "x"
      ],
      "execution_count": 171,
      "outputs": [
        {
          "output_type": "execute_result",
          "data": {
            "text/plain": [
              "<tf.Tensor 'conv_pw_13_relu_8/Relu6:0' shape=(None, 7, 7, 1024) dtype=float32>"
            ]
          },
          "metadata": {
            "tags": []
          },
          "execution_count": 171
        }
      ]
    },
    {
      "cell_type": "code",
      "metadata": {
        "id": "Yz_eRtatKZQ2",
        "colab_type": "code",
        "colab": {}
      },
      "source": [
        "### Let's add our FC Head back onto MobileNet"
      ],
      "execution_count": 0,
      "outputs": []
    },
    {
      "cell_type": "code",
      "metadata": {
        "id": "Z9l5HKa8QYaj",
        "colab_type": "code",
        "colab": {}
      },
      "source": [
        "from keras.models import Sequential\n",
        "from keras.layers import Dense, GlobalAveragePooling2D\n",
        "from keras.layers import Conv2D\n",
        "#from keras.layers.normalization import BatchNormalization\n",
        "from keras.models import Model"
      ],
      "execution_count": 0,
      "outputs": []
    },
    {
      "cell_type": "code",
      "metadata": {
        "id": "CPUa_2i7M7c5",
        "colab_type": "code",
        "colab": {}
      },
      "source": [
        "x=GlobalAveragePooling2D()(x)\n"
      ],
      "execution_count": 0,
      "outputs": []
    },
    {
      "cell_type": "code",
      "metadata": {
        "id": "alAhnXH9QieL",
        "colab_type": "code",
        "colab": {}
      },
      "source": [
        "x=Dense(units=1024,activation=\"relu\")(x)"
      ],
      "execution_count": 0,
      "outputs": []
    },
    {
      "cell_type": "code",
      "metadata": {
        "id": "GA4ygMOSQ0WL",
        "colab_type": "code",
        "colab": {}
      },
      "source": [
        "x=Dense(units=1024,activation=\"relu\")(x)"
      ],
      "execution_count": 0,
      "outputs": []
    },
    {
      "cell_type": "code",
      "metadata": {
        "id": "72f_moz0Q44j",
        "colab_type": "code",
        "colab": {}
      },
      "source": [
        "x=Dense(units=512,activation=\"relu\")(x)"
      ],
      "execution_count": 0,
      "outputs": []
    },
    {
      "cell_type": "code",
      "metadata": {
        "id": "N2RZURFJRlB7",
        "colab_type": "code",
        "colab": {}
      },
      "source": [
        "x=Dense(units=2,activation=\"softmax\")(x)"
      ],
      "execution_count": 0,
      "outputs": []
    },
    {
      "cell_type": "code",
      "metadata": {
        "id": "pr4aRkNTR9Pz",
        "colab_type": "code",
        "colab": {}
      },
      "source": [
        ""
      ],
      "execution_count": 0,
      "outputs": []
    },
    {
      "cell_type": "code",
      "metadata": {
        "id": "YDAUCqFrSClj",
        "colab_type": "code",
        "colab": {}
      },
      "source": [
        "model=Model(inputs=MobileNet.input,outputs=x)"
      ],
      "execution_count": 0,
      "outputs": []
    },
    {
      "cell_type": "code",
      "metadata": {
        "id": "lxS9AlA4IMLc",
        "colab_type": "code",
        "outputId": "299ab0f7-0736-4381-f2f8-40b4fc200022",
        "colab": {
          "base_uri": "https://localhost:8080/",
          "height": 1000
        }
      },
      "source": [
        "model.summary()"
      ],
      "execution_count": 179,
      "outputs": [
        {
          "output_type": "stream",
          "text": [
            "Model: \"model_6\"\n",
            "_________________________________________________________________\n",
            "Layer (type)                 Output Shape              Param #   \n",
            "=================================================================\n",
            "input_9 (InputLayer)         (None, 224, 224, 3)       0         \n",
            "_________________________________________________________________\n",
            "conv1_pad (ZeroPadding2D)    (None, 225, 225, 3)       0         \n",
            "_________________________________________________________________\n",
            "conv1 (Conv2D)               (None, 112, 112, 32)      864       \n",
            "_________________________________________________________________\n",
            "conv1_bn (BatchNormalization (None, 112, 112, 32)      128       \n",
            "_________________________________________________________________\n",
            "conv1_relu (ReLU)            (None, 112, 112, 32)      0         \n",
            "_________________________________________________________________\n",
            "conv_dw_1 (DepthwiseConv2D)  (None, 112, 112, 32)      288       \n",
            "_________________________________________________________________\n",
            "conv_dw_1_bn (BatchNormaliza (None, 112, 112, 32)      128       \n",
            "_________________________________________________________________\n",
            "conv_dw_1_relu (ReLU)        (None, 112, 112, 32)      0         \n",
            "_________________________________________________________________\n",
            "conv_pw_1 (Conv2D)           (None, 112, 112, 64)      2048      \n",
            "_________________________________________________________________\n",
            "conv_pw_1_bn (BatchNormaliza (None, 112, 112, 64)      256       \n",
            "_________________________________________________________________\n",
            "conv_pw_1_relu (ReLU)        (None, 112, 112, 64)      0         \n",
            "_________________________________________________________________\n",
            "conv_pad_2 (ZeroPadding2D)   (None, 113, 113, 64)      0         \n",
            "_________________________________________________________________\n",
            "conv_dw_2 (DepthwiseConv2D)  (None, 56, 56, 64)        576       \n",
            "_________________________________________________________________\n",
            "conv_dw_2_bn (BatchNormaliza (None, 56, 56, 64)        256       \n",
            "_________________________________________________________________\n",
            "conv_dw_2_relu (ReLU)        (None, 56, 56, 64)        0         \n",
            "_________________________________________________________________\n",
            "conv_pw_2 (Conv2D)           (None, 56, 56, 128)       8192      \n",
            "_________________________________________________________________\n",
            "conv_pw_2_bn (BatchNormaliza (None, 56, 56, 128)       512       \n",
            "_________________________________________________________________\n",
            "conv_pw_2_relu (ReLU)        (None, 56, 56, 128)       0         \n",
            "_________________________________________________________________\n",
            "conv_dw_3 (DepthwiseConv2D)  (None, 56, 56, 128)       1152      \n",
            "_________________________________________________________________\n",
            "conv_dw_3_bn (BatchNormaliza (None, 56, 56, 128)       512       \n",
            "_________________________________________________________________\n",
            "conv_dw_3_relu (ReLU)        (None, 56, 56, 128)       0         \n",
            "_________________________________________________________________\n",
            "conv_pw_3 (Conv2D)           (None, 56, 56, 128)       16384     \n",
            "_________________________________________________________________\n",
            "conv_pw_3_bn (BatchNormaliza (None, 56, 56, 128)       512       \n",
            "_________________________________________________________________\n",
            "conv_pw_3_relu (ReLU)        (None, 56, 56, 128)       0         \n",
            "_________________________________________________________________\n",
            "conv_pad_4 (ZeroPadding2D)   (None, 57, 57, 128)       0         \n",
            "_________________________________________________________________\n",
            "conv_dw_4 (DepthwiseConv2D)  (None, 28, 28, 128)       1152      \n",
            "_________________________________________________________________\n",
            "conv_dw_4_bn (BatchNormaliza (None, 28, 28, 128)       512       \n",
            "_________________________________________________________________\n",
            "conv_dw_4_relu (ReLU)        (None, 28, 28, 128)       0         \n",
            "_________________________________________________________________\n",
            "conv_pw_4 (Conv2D)           (None, 28, 28, 256)       32768     \n",
            "_________________________________________________________________\n",
            "conv_pw_4_bn (BatchNormaliza (None, 28, 28, 256)       1024      \n",
            "_________________________________________________________________\n",
            "conv_pw_4_relu (ReLU)        (None, 28, 28, 256)       0         \n",
            "_________________________________________________________________\n",
            "conv_dw_5 (DepthwiseConv2D)  (None, 28, 28, 256)       2304      \n",
            "_________________________________________________________________\n",
            "conv_dw_5_bn (BatchNormaliza (None, 28, 28, 256)       1024      \n",
            "_________________________________________________________________\n",
            "conv_dw_5_relu (ReLU)        (None, 28, 28, 256)       0         \n",
            "_________________________________________________________________\n",
            "conv_pw_5 (Conv2D)           (None, 28, 28, 256)       65536     \n",
            "_________________________________________________________________\n",
            "conv_pw_5_bn (BatchNormaliza (None, 28, 28, 256)       1024      \n",
            "_________________________________________________________________\n",
            "conv_pw_5_relu (ReLU)        (None, 28, 28, 256)       0         \n",
            "_________________________________________________________________\n",
            "conv_pad_6 (ZeroPadding2D)   (None, 29, 29, 256)       0         \n",
            "_________________________________________________________________\n",
            "conv_dw_6 (DepthwiseConv2D)  (None, 14, 14, 256)       2304      \n",
            "_________________________________________________________________\n",
            "conv_dw_6_bn (BatchNormaliza (None, 14, 14, 256)       1024      \n",
            "_________________________________________________________________\n",
            "conv_dw_6_relu (ReLU)        (None, 14, 14, 256)       0         \n",
            "_________________________________________________________________\n",
            "conv_pw_6 (Conv2D)           (None, 14, 14, 512)       131072    \n",
            "_________________________________________________________________\n",
            "conv_pw_6_bn (BatchNormaliza (None, 14, 14, 512)       2048      \n",
            "_________________________________________________________________\n",
            "conv_pw_6_relu (ReLU)        (None, 14, 14, 512)       0         \n",
            "_________________________________________________________________\n",
            "conv_dw_7 (DepthwiseConv2D)  (None, 14, 14, 512)       4608      \n",
            "_________________________________________________________________\n",
            "conv_dw_7_bn (BatchNormaliza (None, 14, 14, 512)       2048      \n",
            "_________________________________________________________________\n",
            "conv_dw_7_relu (ReLU)        (None, 14, 14, 512)       0         \n",
            "_________________________________________________________________\n",
            "conv_pw_7 (Conv2D)           (None, 14, 14, 512)       262144    \n",
            "_________________________________________________________________\n",
            "conv_pw_7_bn (BatchNormaliza (None, 14, 14, 512)       2048      \n",
            "_________________________________________________________________\n",
            "conv_pw_7_relu (ReLU)        (None, 14, 14, 512)       0         \n",
            "_________________________________________________________________\n",
            "conv_dw_8 (DepthwiseConv2D)  (None, 14, 14, 512)       4608      \n",
            "_________________________________________________________________\n",
            "conv_dw_8_bn (BatchNormaliza (None, 14, 14, 512)       2048      \n",
            "_________________________________________________________________\n",
            "conv_dw_8_relu (ReLU)        (None, 14, 14, 512)       0         \n",
            "_________________________________________________________________\n",
            "conv_pw_8 (Conv2D)           (None, 14, 14, 512)       262144    \n",
            "_________________________________________________________________\n",
            "conv_pw_8_bn (BatchNormaliza (None, 14, 14, 512)       2048      \n",
            "_________________________________________________________________\n",
            "conv_pw_8_relu (ReLU)        (None, 14, 14, 512)       0         \n",
            "_________________________________________________________________\n",
            "conv_dw_9 (DepthwiseConv2D)  (None, 14, 14, 512)       4608      \n",
            "_________________________________________________________________\n",
            "conv_dw_9_bn (BatchNormaliza (None, 14, 14, 512)       2048      \n",
            "_________________________________________________________________\n",
            "conv_dw_9_relu (ReLU)        (None, 14, 14, 512)       0         \n",
            "_________________________________________________________________\n",
            "conv_pw_9 (Conv2D)           (None, 14, 14, 512)       262144    \n",
            "_________________________________________________________________\n",
            "conv_pw_9_bn (BatchNormaliza (None, 14, 14, 512)       2048      \n",
            "_________________________________________________________________\n",
            "conv_pw_9_relu (ReLU)        (None, 14, 14, 512)       0         \n",
            "_________________________________________________________________\n",
            "conv_dw_10 (DepthwiseConv2D) (None, 14, 14, 512)       4608      \n",
            "_________________________________________________________________\n",
            "conv_dw_10_bn (BatchNormaliz (None, 14, 14, 512)       2048      \n",
            "_________________________________________________________________\n",
            "conv_dw_10_relu (ReLU)       (None, 14, 14, 512)       0         \n",
            "_________________________________________________________________\n",
            "conv_pw_10 (Conv2D)          (None, 14, 14, 512)       262144    \n",
            "_________________________________________________________________\n",
            "conv_pw_10_bn (BatchNormaliz (None, 14, 14, 512)       2048      \n",
            "_________________________________________________________________\n",
            "conv_pw_10_relu (ReLU)       (None, 14, 14, 512)       0         \n",
            "_________________________________________________________________\n",
            "conv_dw_11 (DepthwiseConv2D) (None, 14, 14, 512)       4608      \n",
            "_________________________________________________________________\n",
            "conv_dw_11_bn (BatchNormaliz (None, 14, 14, 512)       2048      \n",
            "_________________________________________________________________\n",
            "conv_dw_11_relu (ReLU)       (None, 14, 14, 512)       0         \n",
            "_________________________________________________________________\n",
            "conv_pw_11 (Conv2D)          (None, 14, 14, 512)       262144    \n",
            "_________________________________________________________________\n",
            "conv_pw_11_bn (BatchNormaliz (None, 14, 14, 512)       2048      \n",
            "_________________________________________________________________\n",
            "conv_pw_11_relu (ReLU)       (None, 14, 14, 512)       0         \n",
            "_________________________________________________________________\n",
            "conv_pad_12 (ZeroPadding2D)  (None, 15, 15, 512)       0         \n",
            "_________________________________________________________________\n",
            "conv_dw_12 (DepthwiseConv2D) (None, 7, 7, 512)         4608      \n",
            "_________________________________________________________________\n",
            "conv_dw_12_bn (BatchNormaliz (None, 7, 7, 512)         2048      \n",
            "_________________________________________________________________\n",
            "conv_dw_12_relu (ReLU)       (None, 7, 7, 512)         0         \n",
            "_________________________________________________________________\n",
            "conv_pw_12 (Conv2D)          (None, 7, 7, 1024)        524288    \n",
            "_________________________________________________________________\n",
            "conv_pw_12_bn (BatchNormaliz (None, 7, 7, 1024)        4096      \n",
            "_________________________________________________________________\n",
            "conv_pw_12_relu (ReLU)       (None, 7, 7, 1024)        0         \n",
            "_________________________________________________________________\n",
            "conv_dw_13 (DepthwiseConv2D) (None, 7, 7, 1024)        9216      \n",
            "_________________________________________________________________\n",
            "conv_dw_13_bn (BatchNormaliz (None, 7, 7, 1024)        4096      \n",
            "_________________________________________________________________\n",
            "conv_dw_13_relu (ReLU)       (None, 7, 7, 1024)        0         \n",
            "_________________________________________________________________\n",
            "conv_pw_13 (Conv2D)          (None, 7, 7, 1024)        1048576   \n",
            "_________________________________________________________________\n",
            "conv_pw_13_bn (BatchNormaliz (None, 7, 7, 1024)        4096      \n",
            "_________________________________________________________________\n",
            "conv_pw_13_relu (ReLU)       (None, 7, 7, 1024)        0         \n",
            "_________________________________________________________________\n",
            "global_average_pooling2d_7 ( (None, 1024)              0         \n",
            "_________________________________________________________________\n",
            "dense_25 (Dense)             (None, 1024)              1049600   \n",
            "_________________________________________________________________\n",
            "dense_26 (Dense)             (None, 1024)              1049600   \n",
            "_________________________________________________________________\n",
            "dense_27 (Dense)             (None, 512)               524800    \n",
            "_________________________________________________________________\n",
            "dense_28 (Dense)             (None, 2)                 1026      \n",
            "=================================================================\n",
            "Total params: 5,853,890\n",
            "Trainable params: 2,625,026\n",
            "Non-trainable params: 3,228,864\n",
            "_________________________________________________________________\n"
          ],
          "name": "stdout"
        }
      ]
    },
    {
      "cell_type": "code",
      "metadata": {
        "id": "yduEvNmdSgjT",
        "colab_type": "code",
        "outputId": "bdc87452-8397-4dc3-e152-5a5b1f9c49b7",
        "colab": {
          "base_uri": "https://localhost:8080/",
          "height": 34
        }
      },
      "source": [
        "model.output"
      ],
      "execution_count": 180,
      "outputs": [
        {
          "output_type": "execute_result",
          "data": {
            "text/plain": [
              "<tf.Tensor 'dense_28/Softmax:0' shape=(None, 2) dtype=float32>"
            ]
          },
          "metadata": {
            "tags": []
          },
          "execution_count": 180
        }
      ]
    },
    {
      "cell_type": "code",
      "metadata": {
        "id": "c_7lpAXoSiVj",
        "colab_type": "code",
        "colab": {}
      },
      "source": [
        "### Loading our Face Data Set.Here our data set containing images of Narendra Modi and Abdul Kalam"
      ],
      "execution_count": 0,
      "outputs": []
    },
    {
      "cell_type": "code",
      "metadata": {
        "id": "mbFYxIx63LIF",
        "colab_type": "code",
        "colab": {}
      },
      "source": [
        "from keras.preprocessing.image import ImageDataGenerator"
      ],
      "execution_count": 0,
      "outputs": []
    },
    {
      "cell_type": "code",
      "metadata": {
        "id": "yzwxgzZfyz9_",
        "colab_type": "code",
        "colab": {}
      },
      "source": [
        "# Let's use some data augmentaiton \n",
        "train_datagen = ImageDataGenerator(\n",
        "        rescale=1./255,\n",
        "        shear_range=0.2,\n",
        "        zoom_range=0.2,\n",
        "        horizontal_flip=True)\n",
        "test_datagen = ImageDataGenerator(rescale=1./255)\n"
      ],
      "execution_count": 0,
      "outputs": []
    },
    {
      "cell_type": "code",
      "metadata": {
        "id": "IEJGLvrr3JG_",
        "colab_type": "code",
        "colab": {}
      },
      "source": [
        "from keras.callbacks import ModelCheckpoint, EarlyStopping\n"
      ],
      "execution_count": 0,
      "outputs": []
    },
    {
      "cell_type": "code",
      "metadata": {
        "id": "joP-ZY8r6zTk",
        "colab_type": "code",
        "colab": {}
      },
      "source": [
        "\n",
        "### Training out Model\n",
        "### Note we're using checkpointing and early stopping\n",
        "checkpoint = ModelCheckpoint(\"FaceRec_mobileNet.h5\",\n",
        "                             monitor=\"val_loss\",\n",
        "                             mode=\"min\",\n",
        "                             save_best_only = True,\n",
        "                             verbose=1)\n",
        "\n",
        "earlystop = EarlyStopping(monitor = 'val_loss', \n",
        "                          min_delta = 0, \n",
        "                          patience = 3,\n",
        "                          verbose = 1,\n",
        "                          restore_best_weights = True)"
      ],
      "execution_count": 0,
      "outputs": []
    },
    {
      "cell_type": "code",
      "metadata": {
        "id": "sW1YEDBK7qnY",
        "colab_type": "code",
        "colab": {}
      },
      "source": [
        "callbacks = [earlystop, checkpoint]\n"
      ],
      "execution_count": 0,
      "outputs": []
    },
    {
      "cell_type": "code",
      "metadata": {
        "id": "NoLpDk-qDOZK",
        "colab_type": "code",
        "outputId": "b0596355-3705-4eec-a6a2-079e9a6fb26b",
        "colab": {
          "base_uri": "https://localhost:8080/",
          "height": 34
        }
      },
      "source": [
        "from google.colab import drive\n",
        "drive.mount('/content/drive')\n"
      ],
      "execution_count": 186,
      "outputs": [
        {
          "output_type": "stream",
          "text": [
            "Drive already mounted at /content/drive; to attempt to forcibly remount, call drive.mount(\"/content/drive\", force_remount=True).\n"
          ],
          "name": "stdout"
        }
      ]
    },
    {
      "cell_type": "code",
      "metadata": {
        "id": "zdLvJY0-ECkR",
        "colab_type": "code",
        "colab": {}
      },
      "source": [
        "train_data_dir = 'FaceRec/train/'\n",
        "validation_data_dir = 'FaceRec/test/'"
      ],
      "execution_count": 0,
      "outputs": []
    },
    {
      "cell_type": "code",
      "metadata": {
        "id": "_MW5DS-lE2NA",
        "colab_type": "code",
        "outputId": "42b441a9-ca79-44a6-b083-1fe867e81055",
        "colab": {
          "base_uri": "https://localhost:8080/",
          "height": 50
        }
      },
      "source": [
        "train_generator = train_datagen.flow_from_directory(\n",
        "        train_data_dir,\n",
        "        target_size=(224, 224),\n",
        "        batch_size=32,\n",
        "        class_mode='categorical')\n",
        " \n",
        "test_generator = test_datagen.flow_from_directory(\n",
        "        validation_data_dir,\n",
        "        target_size=(224, 224),\n",
        "        batch_size=32,\n",
        "        class_mode='categorical')"
      ],
      "execution_count": 188,
      "outputs": [
        {
          "output_type": "stream",
          "text": [
            "Found 95 images belonging to 2 classes.\n",
            "Found 18 images belonging to 2 classes.\n"
          ],
          "name": "stdout"
        }
      ]
    },
    {
      "cell_type": "code",
      "metadata": {
        "id": "uuL-XnIyFMC_",
        "colab_type": "code",
        "colab": {}
      },
      "source": [
        "nb_train_samples = 95\n",
        "nb_validation_samples = 18"
      ],
      "execution_count": 0,
      "outputs": []
    },
    {
      "cell_type": "code",
      "metadata": {
        "id": "XjI_rZoKFcNA",
        "colab_type": "code",
        "colab": {}
      },
      "source": [
        "epochs = 5\n",
        "batch_size = 16\n"
      ],
      "execution_count": 0,
      "outputs": []
    },
    {
      "cell_type": "code",
      "metadata": {
        "id": "YkPLLrK6FjRp",
        "colab_type": "code",
        "outputId": "c26e8415-b381-4d2b-a022-abe5062591ad",
        "colab": {
          "base_uri": "https://localhost:8080/",
          "height": 353
        }
      },
      "source": [
        "model.compile(loss = 'categorical_crossentropy',\n",
        "              optimizer = keras.optimizers.RMSprop(lr = 0.001),\n",
        "              metrics = ['accuracy'])\n",
        "\n",
        "history = model.fit_generator(\n",
        "    train_generator,\n",
        "    steps_per_epoch = nb_train_samples // batch_size,\n",
        "    epochs = epochs,\n",
        "    callbacks = callbacks,\n",
        "    validation_data = test_generator,\n",
        "    validation_steps = nb_validation_samples // batch_size)"
      ],
      "execution_count": 191,
      "outputs": [
        {
          "output_type": "stream",
          "text": [
            "Epoch 1/5\n",
            "5/5 [==============================] - 3s 594ms/step - loss: 15.5528 - accuracy: 0.5190 - val_loss: 1.6384 - val_accuracy: 0.3889\n",
            "\n",
            "Epoch 00001: val_loss improved from inf to 1.63842, saving model to FaceRec_mobileNet.h5\n",
            "Epoch 2/5\n",
            "5/5 [==============================] - 2s 309ms/step - loss: 0.6373 - accuracy: 0.6962 - val_loss: 0.2349 - val_accuracy: 1.0000\n",
            "\n",
            "Epoch 00002: val_loss improved from 1.63842 to 0.23487, saving model to FaceRec_mobileNet.h5\n",
            "Epoch 3/5\n",
            "5/5 [==============================] - 2s 321ms/step - loss: 0.4304 - accuracy: 0.7610 - val_loss: 0.6905 - val_accuracy: 0.6111\n",
            "\n",
            "Epoch 00003: val_loss did not improve from 0.23487\n",
            "Epoch 4/5\n",
            "5/5 [==============================] - 2s 370ms/step - loss: 0.0837 - accuracy: 0.9810 - val_loss: 0.1521 - val_accuracy: 0.9444\n",
            "\n",
            "Epoch 00004: val_loss improved from 0.23487 to 0.15213, saving model to FaceRec_mobileNet.h5\n",
            "Epoch 5/5\n",
            "5/5 [==============================] - 2s 339ms/step - loss: 0.0082 - accuracy: 1.0000 - val_loss: 0.2171 - val_accuracy: 0.8889\n",
            "\n",
            "Epoch 00005: val_loss did not improve from 0.15213\n"
          ],
          "name": "stdout"
        }
      ]
    },
    {
      "cell_type": "code",
      "metadata": {
        "id": "fm5-HLQhIQoc",
        "colab_type": "code",
        "colab": {}
      },
      "source": [
        "from keras.preprocessing import image\n"
      ],
      "execution_count": 0,
      "outputs": []
    },
    {
      "cell_type": "code",
      "metadata": {
        "id": "pMhMD_WkUqM4",
        "colab_type": "code",
        "colab": {}
      },
      "source": [
        ""
      ],
      "execution_count": 0,
      "outputs": []
    },
    {
      "cell_type": "code",
      "metadata": {
        "id": "gMFMFgTDOOCd",
        "colab_type": "code",
        "colab": {}
      },
      "source": [
        "img = image.load_img(\"FaceRec/test/Narendra Modi/images.jpg\", target_size=(224, 224))"
      ],
      "execution_count": 0,
      "outputs": []
    },
    {
      "cell_type": "code",
      "metadata": {
        "id": "vOzThr07OXJr",
        "colab_type": "code",
        "outputId": "1a738d9e-b0d9-4eb6-d84b-37c1c3799fcc",
        "colab": {
          "base_uri": "https://localhost:8080/",
          "height": 241
        }
      },
      "source": [
        "img"
      ],
      "execution_count": 196,
      "outputs": [
        {
          "output_type": "execute_result",
          "data": {
            "image/png": "[encoded data removed]",
            "text/plain": [
              "<PIL.Image.Image image mode=RGB size=224x224 at 0x7F31F269C8D0>"
            ]
          },
          "metadata": {
            "tags": []
          },
          "execution_count": 196
        }
      ]
    },
    {
      "cell_type": "code",
      "metadata": {
        "id": "FLP1yZ6eOcwa",
        "colab_type": "code",
        "colab": {}
      },
      "source": [
        "from keras.applications.mobilenet import preprocess_input,decode_predictions\n",
        "import numpy as np"
      ],
      "execution_count": 0,
      "outputs": []
    },
    {
      "cell_type": "code",
      "metadata": {
        "id": "ZZm3WrxFO1Bq",
        "colab_type": "code",
        "colab": {}
      },
      "source": [
        "x = image.img_to_array(img)\n",
        "x = np.expand_dims(x, axis=0)\n",
        "x = preprocess_input(x)\n",
        "\n",
        "preds = model.predict(x)\n"
      ],
      "execution_count": 0,
      "outputs": []
    },
    {
      "cell_type": "code",
      "metadata": {
        "id": "j86QASRvPFzz",
        "colab_type": "code",
        "colab": {
          "base_uri": "https://localhost:8080/",
          "height": 34
        },
        "outputId": "a8727f03-7411-4f47-a3c8-d1f454a51621"
      },
      "source": [
        "preds[0]"
      ],
      "execution_count": 221,
      "outputs": [
        {
          "output_type": "execute_result",
          "data": {
            "text/plain": [
              "array([0.00217558, 0.99782443], dtype=float32)"
            ]
          },
          "metadata": {
            "tags": []
          },
          "execution_count": 221
        }
      ]
    },
    {
      "cell_type": "code",
      "metadata": {
        "id": "cp96SGVRUtyh",
        "colab_type": "code",
        "colab": {}
      },
      "source": [
        "def expect(pred):\n",
        "  if pred[0][0]>pred[0][1]:\n",
        "    print(\"Abdul Kalam\")\n",
        "  else:\n",
        "    print(\"Narendra Modi\")"
      ],
      "execution_count": 0,
      "outputs": []
    },
    {
      "cell_type": "code",
      "metadata": {
        "id": "jPSFjdeoVG5d",
        "colab_type": "code",
        "colab": {
          "base_uri": "https://localhost:8080/",
          "height": 34
        },
        "outputId": "62430bbc-cd73-4d7f-cc76-2fcbca82a1f0"
      },
      "source": [
        "expect(preds)"
      ],
      "execution_count": 226,
      "outputs": [
        {
          "output_type": "stream",
          "text": [
            "Narendra Modi\n"
          ],
          "name": "stdout"
        }
      ]
    },
    {
      "cell_type": "code",
      "metadata": {
        "id": "lKao6qjrQHV0",
        "colab_type": "code",
        "colab": {}
      },
      "source": [
        "img1 = image.load_img(\"FaceRec/test/Abdul Kalam//images (1).jpg\", target_size=(224, 224))"
      ],
      "execution_count": 0,
      "outputs": []
    },
    {
      "cell_type": "code",
      "metadata": {
        "id": "8SlWpSE-QV8M",
        "colab_type": "code",
        "colab": {
          "base_uri": "https://localhost:8080/",
          "height": 241
        },
        "outputId": "e2e7d2ce-b2fa-414a-df25-43813220b049"
      },
      "source": [
        "img1"
      ],
      "execution_count": 217,
      "outputs": [
        {
          "output_type": "execute_result",
          "data": {
            "image/png": "[encoded data removed]",
            "text/plain": [
              "<PIL.Image.Image image mode=RGB size=224x224 at 0x7F31F2700390>"
            ]
          },
          "metadata": {
            "tags": []
          },
          "execution_count": 217
        }
      ]
    },
    {
      "cell_type": "code",
      "metadata": {
        "id": "UgXyT-r5R6Kc",
        "colab_type": "code",
        "colab": {}
      },
      "source": [
        "x1 = image.img_to_array(img1)\n",
        "x1 = np.expand_dims(x1, axis=0)\n",
        "x1 = preprocess_input(x1)\n",
        "\n",
        "preds1 = model.predict(x1)\n"
      ],
      "execution_count": 0,
      "outputs": []
    },
    {
      "cell_type": "code",
      "metadata": {
        "id": "6J8phlcCSmJB",
        "colab_type": "code",
        "outputId": "ff38d1eb-7eb9-412b-cb55-52c64170a239",
        "colab": {
          "base_uri": "https://localhost:8080/",
          "height": 34
        }
      },
      "source": [
        "preds1"
      ],
      "execution_count": 224,
      "outputs": [
        {
          "output_type": "execute_result",
          "data": {
            "text/plain": [
              "array([[0.94559354, 0.05440647]], dtype=float32)"
            ]
          },
          "metadata": {
            "tags": []
          },
          "execution_count": 224
        }
      ]
    },
    {
      "cell_type": "code",
      "metadata": {
        "id": "uQhY95gJSnYJ",
        "colab_type": "code",
        "colab": {
          "base_uri": "https://localhost:8080/",
          "height": 34
        },
        "outputId": "28dadf9d-e70a-4b71-ca62-cf6913c89786"
      },
      "source": [
        "expect(preds1)"
      ],
      "execution_count": 229,
      "outputs": [
        {
          "output_type": "stream",
          "text": [
            "Abdul Kalam\n"
          ],
          "name": "stdout"
        }
      ]
    },
    {
      "cell_type": "code",
      "metadata": {
        "id": "jEMdaGqLVOLa",
        "colab_type": "code",
        "colab": {}
      },
      "source": [
        ""
      ],
      "execution_count": 0,
      "outputs": []
    }
  ]
}